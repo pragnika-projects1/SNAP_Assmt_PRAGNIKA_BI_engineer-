{
 "cells": [
  {
   "cell_type": "code",
   "execution_count": 19,
   "id": "0a099f7e",
   "metadata": {},
   "outputs": [],
   "source": [
    "#df = pd.read_csv(r'C:\\Users\\nages\\Downloads\\media_bi_test')"
   ]
  },
  {
   "cell_type": "code",
   "execution_count": 20,
   "id": "29f2e42d",
   "metadata": {},
   "outputs": [],
   "source": [
    "import pandas as pd\n",
    "import matplotlib.pyplot as plt\n",
    "import seaborn as sns"
   ]
  },
  {
   "cell_type": "code",
   "execution_count": 21,
   "id": "9c89d752",
   "metadata": {},
   "outputs": [],
   "source": [
    "#question 1\n",
    "df = pd.read_csv(r'C:\\Users\\nages\\Downloads\\media_bi_test.csv')"
   ]
  },
  {
   "cell_type": "code",
   "execution_count": 22,
   "id": "f2fe4d25",
   "metadata": {},
   "outputs": [
    {
     "data": {
      "text/html": [
       "<div>\n",
       "<style scoped>\n",
       "    .dataframe tbody tr th:only-of-type {\n",
       "        vertical-align: middle;\n",
       "    }\n",
       "\n",
       "    .dataframe tbody tr th {\n",
       "        vertical-align: top;\n",
       "    }\n",
       "\n",
       "    .dataframe thead th {\n",
       "        text-align: right;\n",
       "    }\n",
       "</style>\n",
       "<table border=\"1\" class=\"dataframe\">\n",
       "  <thead>\n",
       "    <tr style=\"text-align: right;\">\n",
       "      <th></th>\n",
       "      <th>company</th>\n",
       "      <th>country</th>\n",
       "      <th>platform</th>\n",
       "      <th>date</th>\n",
       "      <th>spend</th>\n",
       "    </tr>\n",
       "  </thead>\n",
       "  <tbody>\n",
       "    <tr>\n",
       "      <th>0</th>\n",
       "      <td>Quantum Collective</td>\n",
       "      <td>United States</td>\n",
       "      <td>Platform A</td>\n",
       "      <td>2024-07-16T00:00</td>\n",
       "      <td>165.089083</td>\n",
       "    </tr>\n",
       "    <tr>\n",
       "      <th>1</th>\n",
       "      <td>Quantum Collective</td>\n",
       "      <td>United States</td>\n",
       "      <td>Platform A</td>\n",
       "      <td>2024-07-17T00:00</td>\n",
       "      <td>191.786875</td>\n",
       "    </tr>\n",
       "    <tr>\n",
       "      <th>2</th>\n",
       "      <td>Quantum Collective</td>\n",
       "      <td>United States</td>\n",
       "      <td>Platform A</td>\n",
       "      <td>2024-07-18T00:00</td>\n",
       "      <td>166.744909</td>\n",
       "    </tr>\n",
       "    <tr>\n",
       "      <th>3</th>\n",
       "      <td>Quantum Collective</td>\n",
       "      <td>United States</td>\n",
       "      <td>Platform A</td>\n",
       "      <td>2024-07-19T00:00</td>\n",
       "      <td>121.314549</td>\n",
       "    </tr>\n",
       "    <tr>\n",
       "      <th>4</th>\n",
       "      <td>Quantum Collective</td>\n",
       "      <td>United States</td>\n",
       "      <td>Platform A</td>\n",
       "      <td>2024-07-20T00:00</td>\n",
       "      <td>145.730626</td>\n",
       "    </tr>\n",
       "  </tbody>\n",
       "</table>\n",
       "</div>"
      ],
      "text/plain": [
       "              company        country    platform              date       spend\n",
       "0  Quantum Collective  United States  Platform A  2024-07-16T00:00  165.089083\n",
       "1  Quantum Collective  United States  Platform A  2024-07-17T00:00  191.786875\n",
       "2  Quantum Collective  United States  Platform A  2024-07-18T00:00  166.744909\n",
       "3  Quantum Collective  United States  Platform A  2024-07-19T00:00  121.314549\n",
       "4  Quantum Collective  United States  Platform A  2024-07-20T00:00  145.730626"
      ]
     },
     "execution_count": 22,
     "metadata": {},
     "output_type": "execute_result"
    }
   ],
   "source": [
    "df.head()"
   ]
  },
  {
   "cell_type": "code",
   "execution_count": 23,
   "id": "d69ef6e6",
   "metadata": {},
   "outputs": [
    {
     "data": {
      "text/plain": [
       "company     16283\n",
       "country         0\n",
       "platform        0\n",
       "date            0\n",
       "spend           0\n",
       "dtype: int64"
      ]
     },
     "execution_count": 23,
     "metadata": {},
     "output_type": "execute_result"
    }
   ],
   "source": [
    "# Check for missing values\n",
    "df.isnull().sum()\n"
   ]
  },
  {
   "cell_type": "code",
   "execution_count": 24,
   "id": "f21fe563",
   "metadata": {},
   "outputs": [
    {
     "data": {
      "text/plain": [
       "(243304, 5)"
      ]
     },
     "execution_count": 24,
     "metadata": {},
     "output_type": "execute_result"
    }
   ],
   "source": [
    "df.shape"
   ]
  },
  {
   "cell_type": "code",
   "execution_count": 25,
   "id": "a0f5b0d0",
   "metadata": {},
   "outputs": [
    {
     "data": {
      "text/plain": [
       "0"
      ]
     },
     "execution_count": 25,
     "metadata": {},
     "output_type": "execute_result"
    }
   ],
   "source": [
    "# Check for duplicates\n",
    "df.duplicated().sum()"
   ]
  },
  {
   "cell_type": "code",
   "execution_count": 26,
   "id": "4a8ffef8",
   "metadata": {},
   "outputs": [
    {
     "data": {
      "text/plain": [
       "company             object\n",
       "country             object\n",
       "platform            object\n",
       "date        datetime64[ns]\n",
       "spend              float64\n",
       "dtype: object"
      ]
     },
     "execution_count": 26,
     "metadata": {},
     "output_type": "execute_result"
    }
   ],
   "source": [
    "# Convert date to datetime type\n",
    "df['date'] = pd.to_datetime(df['date'])\n",
    "df.dtypes"
   ]
  },
  {
   "cell_type": "code",
   "execution_count": 51,
   "id": "1f91da28",
   "metadata": {},
   "outputs": [],
   "source": [
    "# Create a full copy of the cleaned dataset\n",
    "#df_cleaned = df.dropna(subset=['company']).copy()\n",
    "# Replace all NA values with 0\n",
    "df_cleaned = df.fillna('NotDefined')\n",
    "\n",
    "# Now it's safe to add columns\n",
    "df_cleaned['date'] = pd.to_datetime(df_cleaned['date'])\n",
    "df_cleaned['year'] = df_cleaned['date'].dt.year\n"
   ]
  },
  {
   "cell_type": "code",
   "execution_count": 52,
   "id": "8b55ccac",
   "metadata": {},
   "outputs": [
    {
     "data": {
      "text/html": [
       "<div>\n",
       "<style scoped>\n",
       "    .dataframe tbody tr th:only-of-type {\n",
       "        vertical-align: middle;\n",
       "    }\n",
       "\n",
       "    .dataframe tbody tr th {\n",
       "        vertical-align: top;\n",
       "    }\n",
       "\n",
       "    .dataframe thead th {\n",
       "        text-align: right;\n",
       "    }\n",
       "</style>\n",
       "<table border=\"1\" class=\"dataframe\">\n",
       "  <thead>\n",
       "    <tr style=\"text-align: right;\">\n",
       "      <th></th>\n",
       "      <th>company</th>\n",
       "      <th>country</th>\n",
       "      <th>platform</th>\n",
       "      <th>date</th>\n",
       "      <th>spend</th>\n",
       "      <th>year_month</th>\n",
       "      <th>day_of_year</th>\n",
       "      <th>year</th>\n",
       "    </tr>\n",
       "  </thead>\n",
       "  <tbody>\n",
       "    <tr>\n",
       "      <th>0</th>\n",
       "      <td>Quantum Collective</td>\n",
       "      <td>United States</td>\n",
       "      <td>Platform A</td>\n",
       "      <td>2024-07-16</td>\n",
       "      <td>165.089083</td>\n",
       "      <td>2024-07</td>\n",
       "      <td>198</td>\n",
       "      <td>2024</td>\n",
       "    </tr>\n",
       "    <tr>\n",
       "      <th>1</th>\n",
       "      <td>Quantum Collective</td>\n",
       "      <td>United States</td>\n",
       "      <td>Platform A</td>\n",
       "      <td>2024-07-17</td>\n",
       "      <td>191.786875</td>\n",
       "      <td>2024-07</td>\n",
       "      <td>199</td>\n",
       "      <td>2024</td>\n",
       "    </tr>\n",
       "    <tr>\n",
       "      <th>2</th>\n",
       "      <td>Quantum Collective</td>\n",
       "      <td>United States</td>\n",
       "      <td>Platform A</td>\n",
       "      <td>2024-07-18</td>\n",
       "      <td>166.744909</td>\n",
       "      <td>2024-07</td>\n",
       "      <td>200</td>\n",
       "      <td>2024</td>\n",
       "    </tr>\n",
       "    <tr>\n",
       "      <th>3</th>\n",
       "      <td>Quantum Collective</td>\n",
       "      <td>United States</td>\n",
       "      <td>Platform A</td>\n",
       "      <td>2024-07-19</td>\n",
       "      <td>121.314549</td>\n",
       "      <td>2024-07</td>\n",
       "      <td>201</td>\n",
       "      <td>2024</td>\n",
       "    </tr>\n",
       "    <tr>\n",
       "      <th>4</th>\n",
       "      <td>Quantum Collective</td>\n",
       "      <td>United States</td>\n",
       "      <td>Platform A</td>\n",
       "      <td>2024-07-20</td>\n",
       "      <td>145.730626</td>\n",
       "      <td>2024-07</td>\n",
       "      <td>202</td>\n",
       "      <td>2024</td>\n",
       "    </tr>\n",
       "    <tr>\n",
       "      <th>5</th>\n",
       "      <td>Quantum Collective</td>\n",
       "      <td>United States</td>\n",
       "      <td>Platform A</td>\n",
       "      <td>2024-07-21</td>\n",
       "      <td>132.475070</td>\n",
       "      <td>2024-07</td>\n",
       "      <td>203</td>\n",
       "      <td>2024</td>\n",
       "    </tr>\n",
       "    <tr>\n",
       "      <th>6</th>\n",
       "      <td>Quantum Collective</td>\n",
       "      <td>China</td>\n",
       "      <td>Platform A</td>\n",
       "      <td>2024-07-16</td>\n",
       "      <td>452.786651</td>\n",
       "      <td>2024-07</td>\n",
       "      <td>198</td>\n",
       "      <td>2024</td>\n",
       "    </tr>\n",
       "    <tr>\n",
       "      <th>7</th>\n",
       "      <td>Quantum Collective</td>\n",
       "      <td>China</td>\n",
       "      <td>Platform A</td>\n",
       "      <td>2024-07-17</td>\n",
       "      <td>345.653770</td>\n",
       "      <td>2024-07</td>\n",
       "      <td>199</td>\n",
       "      <td>2024</td>\n",
       "    </tr>\n",
       "    <tr>\n",
       "      <th>8</th>\n",
       "      <td>Quantum Collective</td>\n",
       "      <td>China</td>\n",
       "      <td>Platform A</td>\n",
       "      <td>2024-07-18</td>\n",
       "      <td>339.044151</td>\n",
       "      <td>2024-07</td>\n",
       "      <td>200</td>\n",
       "      <td>2024</td>\n",
       "    </tr>\n",
       "    <tr>\n",
       "      <th>9</th>\n",
       "      <td>Quantum Collective</td>\n",
       "      <td>China</td>\n",
       "      <td>Platform A</td>\n",
       "      <td>2024-07-19</td>\n",
       "      <td>506.047971</td>\n",
       "      <td>2024-07</td>\n",
       "      <td>201</td>\n",
       "      <td>2024</td>\n",
       "    </tr>\n",
       "  </tbody>\n",
       "</table>\n",
       "</div>"
      ],
      "text/plain": [
       "              company        country    platform       date       spend  \\\n",
       "0  Quantum Collective  United States  Platform A 2024-07-16  165.089083   \n",
       "1  Quantum Collective  United States  Platform A 2024-07-17  191.786875   \n",
       "2  Quantum Collective  United States  Platform A 2024-07-18  166.744909   \n",
       "3  Quantum Collective  United States  Platform A 2024-07-19  121.314549   \n",
       "4  Quantum Collective  United States  Platform A 2024-07-20  145.730626   \n",
       "5  Quantum Collective  United States  Platform A 2024-07-21  132.475070   \n",
       "6  Quantum Collective          China  Platform A 2024-07-16  452.786651   \n",
       "7  Quantum Collective          China  Platform A 2024-07-17  345.653770   \n",
       "8  Quantum Collective          China  Platform A 2024-07-18  339.044151   \n",
       "9  Quantum Collective          China  Platform A 2024-07-19  506.047971   \n",
       "\n",
       "  year_month  day_of_year  year  \n",
       "0    2024-07          198  2024  \n",
       "1    2024-07          199  2024  \n",
       "2    2024-07          200  2024  \n",
       "3    2024-07          201  2024  \n",
       "4    2024-07          202  2024  \n",
       "5    2024-07          203  2024  \n",
       "6    2024-07          198  2024  \n",
       "7    2024-07          199  2024  \n",
       "8    2024-07          200  2024  \n",
       "9    2024-07          201  2024  "
      ]
     },
     "execution_count": 52,
     "metadata": {},
     "output_type": "execute_result"
    }
   ],
   "source": [
    "df_cleaned.head(10)\n"
   ]
  },
  {
   "cell_type": "code",
   "execution_count": 36,
   "id": "37fcf7fc",
   "metadata": {},
   "outputs": [
    {
     "data": {
      "text/plain": [
       "Index(['company', 'country', 'platform', 'date', 'spend', 'year'], dtype='object')"
      ]
     },
     "execution_count": 36,
     "metadata": {},
     "output_type": "execute_result"
    }
   ],
   "source": [
    "df_cleaned.columns"
   ]
  },
  {
   "cell_type": "code",
   "execution_count": 37,
   "id": "dbdaa850",
   "metadata": {},
   "outputs": [
    {
     "name": "stdout",
     "output_type": "stream",
     "text": [
      "   year         spend\n",
      "0  2023  5.696635e+06\n",
      "1  2024  8.224486e+06\n"
     ]
    }
   ],
   "source": [
    "#question 2\n",
    "# Total media spend per year\n",
    "spend_by_year = df_cleaned.groupby('year')['spend'].sum().reset_index()\n",
    "print(spend_by_year)\n"
   ]
  },
  {
   "cell_type": "code",
   "execution_count": 38,
   "id": "8b993c43",
   "metadata": {},
   "outputs": [
    {
     "name": "stdout",
     "output_type": "stream",
     "text": [
      "   year  unique_customers\n",
      "0  2023                12\n",
      "1  2024                16\n"
     ]
    }
   ],
   "source": [
    "# Count unique companies per year\n",
    "unique_customers_by_year = df_cleaned.groupby('year')['company'].nunique().reset_index(name='unique_customers')\n",
    "print(unique_customers_by_year)\n"
   ]
  },
  {
   "cell_type": "code",
   "execution_count": 39,
   "id": "48dd3f79",
   "metadata": {},
   "outputs": [
    {
     "data": {
      "image/png": "[encoded data removed]",
      "text/plain": [
       "<Figure size 720x360 with 1 Axes>"
      ]
     },
     "metadata": {},
     "output_type": "display_data"
    }
   ],
   "source": [
    "import matplotlib.pyplot as plt\n",
    "import seaborn as sns\n",
    "\n",
    "# Plot spend trend\n",
    "plt.figure(figsize=(10, 5))\n",
    "sns.barplot(x='year', y='spend', data=spend_by_year, palette='Blues_d')\n",
    "plt.title('Total Media Spend by Year')\n",
    "plt.xlabel('Year')\n",
    "plt.ylabel('Spend ($)')\n",
    "plt.show()\n"
   ]
  },
  {
   "cell_type": "code",
   "execution_count": 40,
   "id": "58abe568",
   "metadata": {},
   "outputs": [
    {
     "data": {
      "image/png": "[encoded data removed]",
      "text/plain": [
       "<Figure size 720x360 with 1 Axes>"
      ]
     },
     "metadata": {},
     "output_type": "display_data"
    }
   ],
   "source": [
    "# Plot unique customers trend\n",
    "plt.figure(figsize=(10, 5))\n",
    "sns.barplot(x='year', y='unique_customers', data=unique_customers_by_year, palette='Greens_d')\n",
    "plt.title('Unique Customers by Year')\n",
    "plt.xlabel('Year')\n",
    "plt.ylabel('Customer Count')\n",
    "plt.show()\n"
   ]
  },
  {
   "cell_type": "code",
   "execution_count": 41,
   "id": "32a93ff7",
   "metadata": {},
   "outputs": [
    {
     "name": "stdout",
     "output_type": "stream",
     "text": [
      "            total_customers  new_customers  churned_customers\n",
      "year_month                                                   \n",
      "2023-01                   6              6                  0\n",
      "2023-02                   7              1                  0\n",
      "2023-03                   7              0                  0\n",
      "2023-04                   9              2                  0\n",
      "2023-05                  11              2                  0\n",
      "2023-06                  11              0                  0\n",
      "2023-07                  11              0                  0\n",
      "2023-08                  12              1                  0\n",
      "2023-09                  12              0                  1\n",
      "2023-10                  11              0                  0\n",
      "2023-11                  11              0                  0\n",
      "2023-12                  11              0                  2\n",
      "2024-01                  10              1                  0\n",
      "2024-02                  11              1                  0\n",
      "2024-03                  11              0                  0\n",
      "2024-04                  12              1                  0\n",
      "2024-05                  13              1                  1\n",
      "2024-06                  13              1                  0\n",
      "2024-07                  13              0                  0\n",
      "2024-08                  13              0                  0\n",
      "2024-09                  15              2                  0\n",
      "2024-10                  15              0                  1\n",
      "2024-11                  14              0                  0\n",
      "2024-12                  14              0                 14\n"
     ]
    }
   ],
   "source": [
    "#questionn 3\n",
    "df['date'] = pd.to_datetime(df['date'])\n",
    "df['year_month'] = df['date'].dt.to_period('M')\n",
    "\n",
    "# Step 2: Idenify first and last seen month per customer\n",
    "first_seen = df.groupby('company')['year_month'].min()\n",
    "last_seen = df.groupby('company')['year_month'].max()\n",
    "\n",
    "# Step 3: Unique customer appearances per month\n",
    "monthly_customers = df[['company', 'year_month']].drop_duplicates()\n",
    "\n",
    "# Total customers active each month\n",
    "total_customers = monthly_customers.groupby('year_month')['company'].nunique().rename('total_customers')\n",
    "\n",
    "# New customers (first time seen in this month)\n",
    "new_customers = monthly_customers[monthly_customers['year_month'] == monthly_customers['company'].map(first_seen)]\n",
    "new_customers_count = new_customers.groupby('year_month')['company'].nunique().rename('new_customers')\n",
    "\n",
    "# Churned customers (last time seen in this month)\n",
    "churned_customers = monthly_customers[monthly_customers['year_month'] == monthly_customers['company'].map(last_seen)]\n",
    "churned_customers_count = churned_customers.groupby('year_month')['company'].nunique().rename('churned_customers')\n",
    "\n",
    "# Step 4: Combine all into one summary table\n",
    "customer_summary = pd.concat([total_customers, new_customers_count, churned_customers_count], axis=1).fillna(0).astype(int)\n",
    "\n",
    "# View the result\n",
    "print(customer_summary)\n"
   ]
  },
  {
   "cell_type": "code",
   "execution_count": 42,
   "id": "ca16e5fc",
   "metadata": {
    "scrolled": true
   },
   "outputs": [
    {
     "data": {
      "image/png": "[encoded data removed]",
      "text/plain": [
       "<Figure size 1008x432 with 1 Axes>"
      ]
     },
     "metadata": {},
     "output_type": "display_data"
    }
   ],
   "source": [
    "import matplotlib.pyplot as plt\n",
    "import seaborn as sns\n",
    "\n",
    "# Reset index to use 'year_month' as a column\n",
    "customer_summary_plot = customer_summary.reset_index()\n",
    "customer_summary_plot['year_month'] = customer_summary_plot['year_month'].astype(str)\n",
    "\n",
    "# Set style\n",
    "sns.set(style=\"whitegrid\")\n",
    "\n",
    "# Create a bar plot for each metric\n",
    "plt.figure(figsize=(14, 6))\n",
    "sns.barplot(x='year_month', y='total_customers', data=customer_summary_plot, color='skyblue', label='Total Customers')\n",
    "sns.barplot(x='year_month', y='new_customers', data=customer_summary_plot, color='lightgreen', label='New Customers')\n",
    "sns.barplot(x='year_month', y='churned_customers', data=customer_summary_plot, color='salmon', label='Churned Customers')\n",
    "\n",
    "# Rotate x-axis labels\n",
    "plt.xticks(rotation=45)\n",
    "\n",
    "# Labels and title\n",
    "plt.title('Monthly Customer Summary')\n",
    "plt.xlabel('Year-Month')\n",
    "plt.ylabel('Customer Count')\n",
    "plt.legend()\n",
    "plt.tight_layout()\n",
    "plt.show()\n"
   ]
  },
  {
   "cell_type": "code",
   "execution_count": 44,
   "id": "ecbceb36",
   "metadata": {},
   "outputs": [],
   "source": [
    "#4th question\n",
    "df['date'] = pd.to_datetime(df['date'])\n",
    "df['year'] = df['date'].dt.year\n",
    "df['day_of_year'] = df['date'].dt.dayofyear\n",
    "\n",
    "# Group by year and day of year to compute daily spend\n",
    "daily_spend = df.groupby(['year', 'day_of_year'])['spend'].sum().reset_index()\n",
    "\n",
    "# Compute cumulative spend for each year\n",
    "daily_spend['cumulative_spend'] = daily_spend.groupby('year')['spend'].cumsum()"
   ]
  },
  {
   "cell_type": "code",
   "execution_count": 45,
   "id": "bd109ae2",
   "metadata": {},
   "outputs": [
    {
     "data": {
      "image/png": "[encoded data removed]",
      "text/plain": [
       "<Figure size 864x432 with 1 Axes>"
      ]
     },
     "metadata": {},
     "output_type": "display_data"
    }
   ],
   "source": [
    "# Plot\n",
    "plt.figure(figsize=(12, 6))\n",
    "sns.lineplot(data=daily_spend, x='day_of_year', y='cumulative_spend', hue='year', marker='o')\n",
    "\n",
    "# Aesthetics\n",
    "plt.title('Cumulative Media Spend Year-over-Year')\n",
    "plt.xlabel('Day of the Year')\n",
    "plt.ylabel('Cumulative Spend ($)')\n",
    "plt.legend(title='Year')\n",
    "plt.grid(True)\n",
    "plt.tight_layout()\n",
    "plt.show()"
   ]
  },
  {
   "cell_type": "code",
   "execution_count": 46,
   "id": "8d6dbab0",
   "metadata": {},
   "outputs": [
    {
     "name": "stdout",
     "output_type": "stream",
     "text": [
      "     platform         spend\n",
      "0  Platform A  7.100985e+06\n",
      "1  Platform B  5.005689e+06\n",
      "2  Platform C  1.805937e+06\n",
      "3  Platform D  5.083690e+05\n"
     ]
    }
   ],
   "source": [
    "#question 5\n",
    "# Total spend per platform\n",
    "platform_spend = df.groupby('platform')['spend'].sum().reset_index().sort_values(by='spend', ascending=False)\n",
    "\n",
    "# Display data\n",
    "print(platform_spend)"
   ]
  },
  {
   "cell_type": "code",
   "execution_count": 47,
   "id": "60fe3936",
   "metadata": {},
   "outputs": [
    {
     "data": {
      "image/png": "[encoded data removed]",
      "text/plain": [
       "<Figure size 720x432 with 1 Axes>"
      ]
     },
     "metadata": {},
     "output_type": "display_data"
    }
   ],
   "source": [
    "# Bar plot\n",
    "plt.figure(figsize=(10, 6))\n",
    "sns.barplot(data=platform_spend, x='platform', y='spend', palette='viridis')\n",
    "plt.title('Total Media Spend by Platform')\n",
    "plt.xlabel('Platform')\n",
    "plt.ylabel('Total Spend ($)')\n",
    "plt.xticks(rotation=30)\n",
    "plt.tight_layout()\n",
    "plt.show()\n"
   ]
  },
  {
   "cell_type": "code",
   "execution_count": 49,
   "id": "4e6dbf80",
   "metadata": {},
   "outputs": [],
   "source": [
    "#question 6- ML\n",
    "# Monthly spend\n",
    "df['year_month'] = df['date'].dt.to_period('M')\n",
    "monthly_spend = df.groupby('year_month')['spend'].sum().reset_index()\n",
    "monthly_spend['year_month'] = monthly_spend['year_month'].astype(str)\n"
   ]
  },
  {
   "cell_type": "code",
   "execution_count": 50,
   "id": "b79946ff",
   "metadata": {},
   "outputs": [
    {
     "name": "stdout",
     "output_type": "stream",
     "text": [
      "  future_month  predicted_spend  estimated_revenue\n",
      "0      2024-12    808816.209544       80881.620954\n",
      "1      2025-01    825451.576844       82545.157684\n",
      "2      2025-02    842086.944144       84208.694414\n"
     ]
    }
   ],
   "source": [
    "from sklearn.linear_model import LinearRegression\n",
    "import numpy as np\n",
    "\n",
    "# Convert month to a number for regression\n",
    "monthly_spend['month_num'] = np.arange(len(monthly_spend))\n",
    "\n",
    "# Train a simple linear model\n",
    "X = monthly_spend[['month_num']]\n",
    "y = monthly_spend['spend']\n",
    "model = LinearRegression().fit(X, y)\n",
    "\n",
    "# Predict next 3 months\n",
    "future_months = pd.DataFrame({'month_num': np.arange(len(monthly_spend), len(monthly_spend)+3)})\n",
    "future_spend = model.predict(future_months)\n",
    "\n",
    "# Estimate revenue with 10% fee rate\n",
    "fee_rate = 0.10\n",
    "future_revenue = future_spend * fee_rate\n",
    "\n",
    "# Combine into a table\n",
    "forecast = pd.DataFrame({\n",
    "    'future_month': pd.date_range(start=monthly_spend['year_month'].iloc[-1] + \"-01\", periods=3, freq='MS').strftime('%Y-%m'),\n",
    "    'predicted_spend': future_spend,\n",
    "    'estimated_revenue': future_revenue\n",
    "})\n",
    "\n",
    "print(forecast)\n"
   ]
  },
  {
   "cell_type": "code",
   "execution_count": null,
   "id": "da9db4d6",
   "metadata": {},
   "outputs": [],
   "source": []
  }
 ],
 "metadata": {
  "kernelspec": {
   "display_name": "Python 3",
   "language": "python",
   "name": "python3"
  },
  "language_info": {
   "codemirror_mode": {
    "name": "ipython",
    "version": 3
   },
   "file_extension": ".py",
   "mimetype": "text/x-python",
   "name": "python",
   "nbconvert_exporter": "python",
   "pygments_lexer": "ipython3",
   "version": "3.8.8"
  }
 },
 "nbformat": 4,
 "nbformat_minor": 5
}
